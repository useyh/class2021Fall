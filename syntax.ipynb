{
  "nbformat": 4,
  "nbformat_minor": 0,
  "metadata": {
    "kernelspec": {
      "display_name": "Python 3",
      "language": "python",
      "name": "python3"
    },
    "language_info": {
      "codemirror_mode": {
        "name": "ipython",
        "version": 3
      },
      "file_extension": ".py",
      "mimetype": "text/x-python",
      "name": "python",
      "nbconvert_exporter": "python",
      "pygments_lexer": "ipython3",
      "version": "3.7.1"
    },
    "colab": {
      "name": "syntax.ipynb",
      "provenance": [],
      "include_colab_link": true
    }
  },
  "cells": [
    {
      "cell_type": "markdown",
      "metadata": {
        "id": "view-in-github",
        "colab_type": "text"
      },
      "source": [
        "<a href=\"https://colab.research.google.com/github/useyh/class2021Fall/blob/main/syntax.ipynb\" target=\"_parent\"><img src=\"https://colab.research.google.com/assets/colab-badge.svg\" alt=\"Open In Colab\"/></a>"
      ]
    },
    {
      "cell_type": "code",
      "metadata": {
        "id": "Fu2mzgrqSLAU",
        "outputId": "283876b5-0fc9-4961-d92d-d242b3c222de"
      },
      "source": [
        "a = [1, 2, 3, 4]\n",
        "for i in a:\n",
        "    print(i) #for I in a : a에 있는 거에서 제일 첫번째 거 부터 제일 마지막까지 i라는 변수에 넣어서 반복해라\n"
      ],
      "execution_count": null,
      "outputs": [
        {
          "output_type": "stream",
          "text": [
            "1\n",
            "2\n",
            "3\n",
            "4\n"
          ],
          "name": "stdout"
        }
      ]
    },
    {
      "cell_type": "code",
      "metadata": {
        "id": "XSJxLJVCSLAW",
        "outputId": "921b10b7-3bc8-4345-a6b2-16253a900c95"
      },
      "source": [
        "a = [1, 2, 3, 4]\n",
        "for i in range(len(a)):\n",
        "    print(a[i])"
      ],
      "execution_count": null,
      "outputs": [
        {
          "output_type": "stream",
          "text": [
            "1\n",
            "2\n",
            "3\n",
            "4\n"
          ],
          "name": "stdout"
        }
      ]
    },
    {
      "cell_type": "code",
      "metadata": {
        "id": "VTfxVRdgSLAW",
        "outputId": "7b430ba8-015e-4296-c883-ce2b3f9ed43b"
      },
      "source": [
        "a = ['red', 'green', 'blue', 'purple']\n",
        "for i in a:\n",
        "    print(i)"
      ],
      "execution_count": null,
      "outputs": [
        {
          "output_type": "stream",
          "text": [
            "red\n",
            "green\n",
            "blue\n",
            "purple\n"
          ],
          "name": "stdout"
        }
      ]
    },
    {
      "cell_type": "code",
      "metadata": {
        "id": "Vc-7pW85SLAW",
        "outputId": "9394e177-c8c8-44db-ff28-1e9566072bb3"
      },
      "source": [
        "a = ['red', 'green', 'blue', 'purple']\n",
        "for i in range(len(a)):\n",
        "    print(a[i])"
      ],
      "execution_count": null,
      "outputs": [
        {
          "output_type": "stream",
          "text": [
            "red\n",
            "green\n",
            "blue\n",
            "purple\n"
          ],
          "name": "stdout"
        }
      ]
    },
    {
      "cell_type": "code",
      "metadata": {
        "id": "dD-ephD3SLAX",
        "outputId": "69d729f8-996a-41be-d84b-f1bd2a7c809c"
      },
      "source": [
        "a = 0\n",
        "if a == 0:\n",
        "    print(a)\n",
        "else:\n",
        "    print(a+1)"
      ],
      "execution_count": null,
      "outputs": [
        {
          "output_type": "stream",
          "text": [
            "0\n"
          ],
          "name": "stdout"
        }
      ]
    },
    {
      "cell_type": "code",
      "metadata": {
        "id": "M0AZaDMvSLAY",
        "outputId": "b25a5fe6-defa-4549-85b0-0c146ff7a2a0"
      },
      "source": [
        "for i in range(1, 3): #1,2\n",
        "    for j in range(3, 5): #3,4\n",
        "        print(i*j)"
      ],
      "execution_count": null,
      "outputs": [
        {
          "output_type": "stream",
          "text": [
            "3\n",
            "4\n",
            "6\n",
            "8\n"
          ],
          "name": "stdout"
        }
      ]
    },
    {
      "cell_type": "markdown",
      "source": [
        "*\n",
        "for i in range(1, 5) : -> outer loop 1,2,3,4 \n",
        "\n",
        "  for j in range(3, 7) : -> inner loop 3,4,5,6\n",
        "  \n",
        "     print(I*j) -> 총 print out이 몇 번 ? = 16번"
      ],
      "metadata": {
        "id": "N7KBLDQPU5La"
      }
    },
    {
      "cell_type": "code",
      "metadata": {
        "id": "ZPpZmVIHSLAY",
        "outputId": "0bbcc529-c1d8-4774-e1ad-9de8b9e065ce"
      },
      "source": [
        "for i in range(1, 3): #1,2\n",
        "    for j in range(3, 5): #3,4\n",
        "        if j >=4:\n",
        "            print(i*j)"
      ],
      "execution_count": null,
      "outputs": [
        {
          "output_type": "stream",
          "text": [
            "4\n",
            "8\n"
          ],
          "name": "stdout"
        }
      ]
    },
    {
      "cell_type": "code",
      "metadata": {
        "id": "JQXk5vi0SLAY",
        "outputId": "cd3306f3-6d6d-446e-dd4a-f7f4e11dd967"
      },
      "source": [
        "a = [1, 2, 3, 4]\n",
        "b = [i for i in a if i >=2]\n",
        "b"
      ],
      "execution_count": null,
      "outputs": [
        {
          "output_type": "execute_result",
          "data": {
            "text/plain": [
              "[2, 3, 4]"
            ]
          },
          "metadata": {
            "tags": []
          },
          "execution_count": 12
        }
      ]
    },
    {
      "cell_type": "code",
      "metadata": {
        "id": "MDmBGZ3LSLAZ",
        "outputId": "bd06f885-7334-43d9-d92d-848c615f6771"
      },
      "source": [
        "a = ['red', 'green', 'blue', 'purple']\n",
        "b = [i for i in a if len(i) >=4]\n",
        "b"
      ],
      "execution_count": null,
      "outputs": [
        {
          "output_type": "execute_result",
          "data": {
            "text/plain": [
              "['green', 'blue', 'purple']"
            ]
          },
          "metadata": {
            "tags": []
          },
          "execution_count": 13
        }
      ]
    }
  ]
}